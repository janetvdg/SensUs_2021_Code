{
 "cells": [
  {
   "cell_type": "code",
   "execution_count": null,
   "metadata": {},
   "outputs": [],
   "source": [
    "import pandas as pd\n",
    "import matplotlib.pyplot as plt\n",
    "import os\n",
    "import keyboard\n",
    "import sys\n",
    "import serial\n",
    "import time\n",
    "\n",
    "import run_parallel\n",
    "from pump import initialise_LSPone, general_cleaning_procedure, pick_BB"
   ]
  },
  {
   "cell_type": "markdown",
   "metadata": {},
   "source": [
    "## Pump"
   ]
  },
  {
   "cell_type": "markdown",
   "metadata": {},
   "source": [
    "To connect the pump to the computer (only done at the very beginning of times)."
   ]
  },
  {
   "cell_type": "code",
   "execution_count": null,
   "metadata": {},
   "outputs": [],
   "source": [
    "# Open serial connection -> check COM port on your device\n",
    "lsp = serial.Serial('COM5', 9600, timeout=1000)  # TODO: change the comport depending on your computer\n",
    "print('LSPone connected on ',lsp.name)\n",
    "\n",
    "# Initialise LSPone normally already done\n",
    "initialise_LSPone(lsp)\n",
    "\n",
    "# 0. General Cleaning # this were i start\n",
    "# 2: PBS, 3: Air, 4: Ethanol   (order of the tubes in the pump)\n",
    "general_cleaning_procedure(lsp)"
   ]
  },
  {
   "cell_type": "markdown",
   "metadata": {},
   "source": [
    "Aspiring the Blocking Buffer"
   ]
  },
  {
   "cell_type": "code",
   "execution_count": null,
   "metadata": {},
   "outputs": [],
   "source": [
    "# Sucking BB at 50 ul/min\n",
    "pick_BB(lsp)"
   ]
  },
  {
   "cell_type": "markdown",
   "metadata": {},
   "source": [
    "Flowing the sample"
   ]
  },
  {
   "cell_type": "code",
   "execution_count": null,
   "metadata": {},
   "outputs": [],
   "source": [
    "# Push and pull sample at 50 ul/min\n",
    "push_pull_sample(lsp, n_times = 4)"
   ]
  },
  {
   "cell_type": "markdown",
   "metadata": {},
   "source": [
    "## SpinView --> start recording"
   ]
  },
  {
   "cell_type": "markdown",
   "metadata": {},
   "source": [
    "## Select ROI, preprocess and analysis"
   ]
  },
  {
   "cell_type": "code",
   "execution_count": null,
   "metadata": {},
   "outputs": [],
   "source": [
    "# Running in parallel\n",
    "run_parallel.main()"
   ]
  },
  {
   "cell_type": "code",
   "execution_count": null,
   "metadata": {},
   "outputs": [],
   "source": [
    "# Loading results\n",
    "result_df = pd.read_csv('./images/20210828/result.csv')   # TODO CHANGE NAME\n",
    "result_df['Signal'].plot()"
   ]
  }
 ],
 "metadata": {
  "kernelspec": {
   "display_name": "Python 3",
   "language": "python",
   "name": "python3"
  },
  "language_info": {
   "codemirror_mode": {
    "name": "ipython",
    "version": 3
   },
   "file_extension": ".py",
   "mimetype": "text/x-python",
   "name": "python",
   "nbconvert_exporter": "python",
   "pygments_lexer": "ipython3",
   "version": "3.7.4"
  }
 },
 "nbformat": 4,
 "nbformat_minor": 5
}
