{
 "cells": [
  {
   "cell_type": "markdown",
   "metadata": {},
   "source": [
    "# SenSwiss 2021\n",
    "\n",
    "Code to run in parallel with the acquisition of images in SpinView.\n",
    "\n",
    "Instructions: \n",
    "\n",
    "* Check that the **exposure time** of the camera is constant 11113us\n",
    "* Check you have a folder named `/focus` at the main path\n",
    "* Create a **new folder for the measurement** `/images/NEW_FOLDER_FOR_NEW_TEST` (this needs to be done each time, not in advance!!! (code checks last created folder))\n",
    "* Follow the instructions below\n",
    "* For acquisition in SpinView, save the images in the folder you created in step 3 as type .tiff\n",
    "* If the chip moves at some point\n",
    "* Look that everything is okay in the prints\n",
    "* Press ctrl-j (for like 1-2seconds) when you want to finish computing the preprocessing and analysis and save the results in result.csv, which will be placed in the folder of step 3."
   ]
  },
  {
   "cell_type": "markdown",
   "metadata": {},
   "source": [
    "1. Set everything up in SpinView:\n",
    "    * `/focus`\n",
    "    * `/images/NEW_FOLDER_FOR_NEW_TEST`\n",
    "    * exposure auto OFF, 11113us\n",
    "    \n",
    "2. Take an image for the focus before flowing BB (just in case) -> save as .tiff\n",
    "\n",
    "3. Take another image if you moved the chip\n",
    "\n",
    "4. Once you are sure the focus is the one you want, press **RUN in run_parallel** notebook\n",
    "\n",
    "5. After, **start** the acquisition in **SpinView** (do not forget this step!!!)"
   ]
  },
  {
   "cell_type": "markdown",
   "metadata": {},
   "source": [
    "## Integration with pump\n",
    "1. connect with port\n",
    "2. initialise\n",
    "3. cleaning\n",
    "4. pull BB\n",
    "5. push pull sample\n",
    "6. start recording SpinView\n",
    "7. run parallel"
   ]
  },
  {
   "cell_type": "code",
   "execution_count": 6,
   "metadata": {},
   "outputs": [],
   "source": [
    "import pandas as pd\n",
    "import matplotlib.pyplot as plt\n",
    "import os\n",
    "import keyboard\n",
    "import sys\n",
    "#import serial\n",
    "import time\n",
    "\n",
    "import run_parallel\n",
    "#from pump import initialise_LSPone, general_cleaning_procedure, pick_BB\n",
    "from run_parallel import describe_folders, press_ROIs, run_analysis"
   ]
  },
  {
   "cell_type": "markdown",
   "metadata": {},
   "source": [
    "## 0. Pump"
   ]
  },
  {
   "cell_type": "markdown",
   "metadata": {},
   "source": [
    "To connect the pump to the computer (only done at the very beginning of times)."
   ]
  },
  {
   "cell_type": "code",
   "execution_count": null,
   "metadata": {},
   "outputs": [],
   "source": [
    "# Open serial connection -> check COM port on your device\n",
    "lsp = serial.Serial('COM5', 9600, timeout=1000)  # TODO: change the comport depending on your computer\n",
    "print('LSPone connected on ', lsp.name)\n",
    "\n",
    "# Initialise LSPone normally already done\n",
    "initialise_LSPone(lsp)\n",
    "\n",
    "# 0. General Cleaning # this were i start\n",
    "# 2: PBS, 3: Air, 4: Ethanol   (order of the tubes in the pump)\n",
    "general_cleaning_procedure(lsp)"
   ]
  },
  {
   "cell_type": "markdown",
   "metadata": {},
   "source": [
    "## Starting the measurements"
   ]
  },
  {
   "cell_type": "markdown",
   "metadata": {},
   "source": [
    "#### 1. Take a photo with SpinView of the spots -> save at /focus"
   ]
  },
  {
   "cell_type": "markdown",
   "metadata": {},
   "source": [
    "#### 2. Aspiring the Blocking Buffer"
   ]
  },
  {
   "cell_type": "code",
   "execution_count": null,
   "metadata": {},
   "outputs": [],
   "source": [
    "# Sucking BB at 50 ul/min\n",
    "pick_BB(lsp)"
   ]
  },
  {
   "cell_type": "markdown",
   "metadata": {},
   "source": [
    "#### 3. Select ROI\n"
   ]
  },
  {
   "cell_type": "code",
   "execution_count": 11,
   "metadata": {},
   "outputs": [
    {
     "name": "stdout",
     "output_type": "stream",
     "text": [
      "THIS IS ORIGINAL FOLDER PATH /Users/janet/EnginyeriaBiomèdica/MSc LIFE SCIENCES ENGINEERING/SensUs/Code/SensUs_2021_Code\n",
      "/Users/janet/EnginyeriaBiomèdica/MSc LIFE SCIENCES ENGINEERING/SensUs/Code/SensUs_2021_Code/focus\n",
      "['test.tiff', 'test2.tiff', 'test2 còpia.tiff', '.gitkeep', 'test2 còpia 2.tiff', 'yesyesyes.tiff', '.DS_Store', 'yesyesyes còpia.tiff', '10ng_used_chip-08292021192426-299.tiff']\n",
      "ROI PATH /Users/janet/EnginyeriaBiomèdica/MSc LIFE SCIENCES ENGINEERING/SensUs/Code/SensUs_2021_Code/focus/10ng_used_chip-08292021192426-299.tiff\n",
      "Select the ROI. Press right button if you want to delete. The last 2 ROIs will be used as background. Press 'q' when you have finished. \n",
      "ROIs:\n",
      " [[3760 1708  480]\n",
      " [1160 2396  480]\n",
      " [1276  644  480]\n",
      " [2848 2772  480]]\n"
     ]
    }
   ],
   "source": [
    "# Select ROI\n",
    "ORIGINAL_FOLDER, IMG_PROCESSED_FOLDER, IMG_FOLDER, DIR_ROI, DIR = describe_folders()\n",
    "ROIs = press_ROIs(DIR_ROI, ORIGINAL_FOLDER)"
   ]
  },
  {
   "cell_type": "markdown",
   "metadata": {},
   "source": [
    "#### 4. Start running preprocess and analysis"
   ]
  },
  {
   "cell_type": "code",
   "execution_count": null,
   "metadata": {},
   "outputs": [
    {
     "name": "stdout",
     "output_type": "stream",
     "text": [
      "OBSERVED FOLDER /Users/janet/EnginyeriaBiomèdica/MSc LIFE SCIENCES ENGINEERING/SensUs/Code/SensUs_2021_Code/images/finding_thresh\n",
      "Press \"s\" or ctrl+c to exit and save the results\n",
      "filename /Users/janet/EnginyeriaBiomèdica/MSc LIFE SCIENCES ENGINEERING/SensUs/Code/SensUs_2021_Code/images/finding_thresh/10ng_used_chip-08292021191415-0.tiff\n"
     ]
    },
    {
     "name": "stderr",
     "output_type": "stream",
     "text": [
      "Exception in thread Thread-8:\n",
      "Traceback (most recent call last):\n",
      "  File \"/Applications/anaconda3/lib/python3.7/site-packages/skimage/external/tifffile/tifffile.py\", line 1363, in _fromfile\n",
      "    self.byteorder = {b'II': '<', b'MM': '>'}[self._fh.read(2)]\n",
      "KeyError: b''\n",
      "\n",
      "During handling of the above exception, another exception occurred:\n",
      "\n",
      "Traceback (most recent call last):\n",
      "  File \"/Applications/anaconda3/lib/python3.7/threading.py\", line 926, in _bootstrap_inner\n",
      "    self.run()\n",
      "  File \"/Applications/anaconda3/lib/python3.7/site-packages/watchdog/observers/api.py\", line 199, in run\n",
      "    self.dispatch_events(self.event_queue, self.timeout)\n",
      "  File \"/Applications/anaconda3/lib/python3.7/site-packages/watchdog/observers/api.py\", line 372, in dispatch_events\n",
      "    handler.dispatch(event)\n",
      "  File \"/Applications/anaconda3/lib/python3.7/site-packages/watchdog/events.py\", line 278, in dispatch\n",
      "    }[event.event_type](event)\n",
      "  File \"/Users/janet/EnginyeriaBiomèdica/MSc LIFE SCIENCES ENGINEERING/SensUs/Code/SensUs_2021_Code/processing/RunAnalysisHandler.py\", line 64, in on_created\n",
      "    img = np.array(io.imread(filename))\n",
      "  File \"/Applications/anaconda3/lib/python3.7/site-packages/skimage/io/_io.py\", line 48, in imread\n",
      "    img = call_plugin('imread', fname, plugin=plugin, **plugin_args)\n",
      "  File \"/Applications/anaconda3/lib/python3.7/site-packages/skimage/io/manage_plugins.py\", line 210, in call_plugin\n",
      "    return func(*args, **kwargs)\n",
      "  File \"/Applications/anaconda3/lib/python3.7/site-packages/skimage/io/_plugins/tifffile_plugin.py\", line 48, in imread\n",
      "    with TiffFile(fname, **kwargs_tiff) as tif:\n",
      "  File \"/Applications/anaconda3/lib/python3.7/site-packages/skimage/external/tifffile/tifffile.py\", line 1338, in __init__\n",
      "    self._fromfile(pages, fastij)\n",
      "  File \"/Applications/anaconda3/lib/python3.7/site-packages/skimage/external/tifffile/tifffile.py\", line 1365, in _fromfile\n",
      "    raise ValueError(\"invalid TIFF file\")\n",
      "ValueError: invalid TIFF file\n",
      "\n"
     ]
    }
   ],
   "source": [
    "# Run processing and analysis\n",
    "run_analysis(ROIs, IMG_FOLDER=IMG_FOLDER, DIR=DIR, window_size=5, framerate=2, threshold=140)"
   ]
  },
  {
   "cell_type": "markdown",
   "metadata": {},
   "source": [
    "#### 5. Flow the sample"
   ]
  },
  {
   "cell_type": "code",
   "execution_count": null,
   "metadata": {},
   "outputs": [],
   "source": [
    "# Push and pull sample at 50 ul/min\n",
    "push_pull_sample(lsp, n_times = 4)"
   ]
  },
  {
   "cell_type": "markdown",
   "metadata": {},
   "source": [
    "#### 6. SpinView --> start recording"
   ]
  },
  {
   "cell_type": "markdown",
   "metadata": {},
   "source": [
    "#### 7. View results (change name)"
   ]
  },
  {
   "cell_type": "code",
   "execution_count": null,
   "metadata": {},
   "outputs": [],
   "source": [
    "# Loading results\n",
    "result_df = pd.read_csv('./images/20210828/result.csv')   # TODO CHANGE NAME\n",
    "result_df['Signal'].plot()"
   ]
  },
  {
   "cell_type": "code",
   "execution_count": null,
   "metadata": {},
   "outputs": [],
   "source": [
    "# Running in parallel (if you want to run all at once)\n",
    "# run_parallel.main()"
   ]
  }
 ],
 "metadata": {
  "kernelspec": {
   "display_name": "Python 3",
   "language": "python",
   "name": "python3"
  },
  "language_info": {
   "codemirror_mode": {
    "name": "ipython",
    "version": 3
   },
   "file_extension": ".py",
   "mimetype": "text/x-python",
   "name": "python",
   "nbconvert_exporter": "python",
   "pygments_lexer": "ipython3",
   "version": "3.7.4"
  }
 },
 "nbformat": 4,
 "nbformat_minor": 5
}
