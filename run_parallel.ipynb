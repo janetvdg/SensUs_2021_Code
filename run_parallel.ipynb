{
 "cells": [
  {
   "cell_type": "markdown",
   "metadata": {},
   "source": [
    "# SenSwiss 2021\n",
    "\n",
    "Code to run in parallel with the acquisition of images in SpinView.\n",
    "\n",
    "Instructions: \n",
    "\n",
    "0. Check that the exposure time of the camera is constant\n",
    "1. Check you have a folder named focus at the main path\n",
    "2. Create a new folder for the measurement (this needs to be done each time, not in advance!!! (code checks last created folder))\n",
    "3. Save image for the focus in SpinView in the folder ./focus as type .tiff\n",
    "4. Run run_parallel.py\n",
    "5. Select ROIs and press the cross\n",
    "6. Start the acquisition in SpinView, saving the images in the folder you created in step 2 as type .tiff\n",
    "7. Look that everything is okay in the terminal\n",
    "8. Press s (for like 1-2seconds) when you want to finish computing the preprocessing and analysis and save the results in result.csv, which will be placed in the folder of step 2."
   ]
  },
  {
   "cell_type": "markdown",
   "metadata": {},
   "source": [
    "1. Set everything up in SpinView:\n",
    "    * `/focus`\n",
    "    * `/images/NEW_FOLDER_FOR_NEW_TEST`\n",
    "    * exposure auto OFF, 11113us\n",
    "    \n",
    "2. Take an image for the focus before flowing BB (just in case)\n",
    "\n",
    "3. Take another image if you moved the chip\n",
    "\n",
    "4. Once you are sure the focus is the one you want, press **RUN in run_parallel** notebook\n",
    "\n",
    "5. After, **start** the acquisition in **SpinView** (do not forget this step!!!)"
   ]
  },
  {
   "cell_type": "markdown",
   "metadata": {},
   "source": [
    "## Integration with pump\n",
    "1. connect with port\n",
    "2. initialise\n",
    "3. cleaning\n",
    "4. pull BB\n",
    "5. push pull sample\n",
    "6. start recording SpinView\n",
    "7. run parallel"
   ]
  },
  {
   "cell_type": "code",
   "execution_count": null,
   "metadata": {},
   "outputs": [],
   "source": [
    "import pandas as pd\n",
    "import matplotlib.pyplot as plt\n",
    "import os\n",
    "import keyboard\n",
    "import sys\n",
    "import serial\n",
    "import time\n",
    "\n",
    "import run_parallel\n",
    "from pump import initialise_LSPone, general_cleaning_procedure, pick_BB\n",
    "from run_parallel import describe_folders, press_ROIs, run_analysis"
   ]
  },
  {
   "cell_type": "markdown",
   "metadata": {},
   "source": [
    "## Pump"
   ]
  },
  {
   "cell_type": "markdown",
   "metadata": {},
   "source": [
    "To connect the pump to the computer (only done at the very beginning of times)."
   ]
  },
  {
   "cell_type": "code",
   "execution_count": null,
   "metadata": {},
   "outputs": [],
   "source": [
    "# Open serial connection -> check COM port on your device\n",
    "lsp = serial.Serial('COM5', 9600, timeout=1000)  # TODO: change the comport depending on your computer\n",
    "print('LSPone connected on ', lsp.name)\n",
    "\n",
    "# Initialise LSPone normally already done\n",
    "initialise_LSPone(lsp)\n",
    "\n",
    "# 0. General Cleaning # this were i start\n",
    "# 2: PBS, 3: Air, 4: Ethanol   (order of the tubes in the pump)\n",
    "general_cleaning_procedure(lsp)"
   ]
  },
  {
   "cell_type": "markdown",
   "metadata": {},
   "source": [
    "## Starting the measurements"
   ]
  },
  {
   "cell_type": "markdown",
   "metadata": {},
   "source": [
    "Aspiring the Blocking Buffer"
   ]
  },
  {
   "cell_type": "code",
   "execution_count": null,
   "metadata": {},
   "outputs": [],
   "source": [
    "# Sucking BB at 50 ul/min\n",
    "pick_BB(lsp)"
   ]
  },
  {
   "cell_type": "markdown",
   "metadata": {},
   "source": [
    "Flowing the sample"
   ]
  },
  {
   "cell_type": "code",
   "execution_count": null,
   "metadata": {},
   "outputs": [],
   "source": [
    "# Push and pull sample at 50 ul/min\n",
    "push_pull_sample(lsp, n_times = 4)"
   ]
  },
  {
   "cell_type": "markdown",
   "metadata": {},
   "source": [
    "## SpinView --> start recording"
   ]
  },
  {
   "cell_type": "markdown",
   "metadata": {},
   "source": [
    "## Select ROI, preprocess and analysis"
   ]
  },
  {
   "cell_type": "code",
   "execution_count": null,
   "metadata": {},
   "outputs": [],
   "source": [
    "# Select ROI\n",
    "ORIGINAL_FOLDER, IMG_PROCESSED_FOLDER, IMG_FOLDER, DIR_ROI, DIR = describe_folders()\n",
    "ROIs = press_ROIs(DIR_ROI, ORIGINAL_FOLDER)"
   ]
  },
  {
   "cell_type": "code",
   "execution_count": null,
   "metadata": {},
   "outputs": [],
   "source": [
    "# Run processing and analysis\n",
    "run_analysis(ROIs, IMG_FOLDER=IMG_FOLDER, DIR=DIR, window_size=5, framerate=2, threshold=130)"
   ]
  },
  {
   "cell_type": "code",
   "execution_count": null,
   "metadata": {},
   "outputs": [],
   "source": [
    "# Running in parallel\n",
    "run_parallel.main()"
   ]
  },
  {
   "cell_type": "code",
   "execution_count": null,
   "metadata": {},
   "outputs": [],
   "source": [
    "# Loading results\n",
    "result_df = pd.read_csv('./images/20210828/result.csv')   # TODO CHANGE NAME\n",
    "result_df['Signal'].plot()"
   ]
  }
 ],
 "metadata": {
  "kernelspec": {
   "display_name": "Python 3",
   "language": "python",
   "name": "python3"
  },
  "language_info": {
   "codemirror_mode": {
    "name": "ipython",
    "version": 3
   },
   "file_extension": ".py",
   "mimetype": "text/x-python",
   "name": "python",
   "nbconvert_exporter": "python",
   "pygments_lexer": "ipython3",
   "version": "3.7.4"
  }
 },
 "nbformat": 4,
 "nbformat_minor": 5
}
