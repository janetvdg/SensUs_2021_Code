{
 "cells": [
  {
   "cell_type": "code",
   "execution_count": 1,
   "metadata": {},
   "outputs": [],
   "source": [
    "import pandas as pd\n",
    "import matplotlib.pyplot as plt\n",
    "import os\n",
    "import keyboard"
   ]
  },
  {
   "cell_type": "code",
   "execution_count": 2,
   "metadata": {},
   "outputs": [],
   "source": [
    "import run_parallel"
   ]
  },
  {
   "cell_type": "code",
   "execution_count": 3,
   "metadata": {},
   "outputs": [
    {
     "name": "stdout",
     "output_type": "stream",
     "text": [
      "ep\n",
      "THIS IS ORIGINAL FOLDER PATH /Users/janet/EnginyeriaBiomèdica/MSc LIFE SCIENCES ENGINEERING/SensUs/Code/SensUs_2021_Code\n",
      "/Users/janet/EnginyeriaBiomèdica/MSc LIFE SCIENCES ENGINEERING/SensUs/Code/SensUs_2021_Code/focus\n",
      "['test.tiff', 'test2.tiff', '.gitkeep', 'test2 còpia.tiff']\n",
      "ROI PATH /Users/janet/EnginyeriaBiomèdica/MSc LIFE SCIENCES ENGINEERING/SensUs/Code/SensUs_2021_Code/focus/test2 còpia.tiff\n",
      "Select the ROI. Press right button if you want to delete. The last 2 ROIs will be used as background. Press 'q' when you have finished. \n",
      "ROIs:\n",
      " [[2944 1840  480]\n",
      " [ 636 2044  480]\n",
      " [1784 3016  480]\n",
      " [3680 2936  480]]\n",
      "OBSERVED FOLDER /Users/janet/EnginyeriaBiomèdica/MSc LIFE SCIENCES ENGINEERING/SensUs/Code/SensUs_2021_Code/images/20210828\n",
      "Press \"s\" or ctrl+c to exit and save the results\n"
     ]
    },
    {
     "name": "stderr",
     "output_type": "stream",
     "text": [
      "Exception in thread Thread-6:\n",
      "Traceback (most recent call last):\n",
      "  File \"/Applications/anaconda3/lib/python3.7/threading.py\", line 926, in _bootstrap_inner\n",
      "    self.run()\n",
      "  File \"/Applications/anaconda3/lib/python3.7/threading.py\", line 870, in run\n",
      "    self._target(*self._args, **self._kwargs)\n",
      "  File \"/Applications/anaconda3/lib/python3.7/site-packages/keyboard/__init__.py\", line 294, in listen\n",
      "    _os_keyboard.listen(self.direct_callback)\n",
      "  File \"/Applications/anaconda3/lib/python3.7/site-packages/keyboard/_darwinkeyboard.py\", line 430, in listen\n",
      "    raise OSError(\"Error 13 - Must be run as administrator\")\n",
      "OSError: Error 13 - Must be run as administrator\n",
      "\n"
     ]
    },
    {
     "name": "stdout",
     "output_type": "stream",
     "text": [
      "filename /Users/janet/EnginyeriaBiomèdica/MSc LIFE SCIENCES ENGINEERING/SensUs/Code/SensUs_2021_Code/images/20210828/Brightfield còpia 20.png\n",
      "num events 1\n",
      "imgs (1, 3648, 5472)\n",
      "filename /Users/janet/EnginyeriaBiomèdica/MSc LIFE SCIENCES ENGINEERING/SensUs/Code/SensUs_2021_Code/images/20210828/Brightfield còpia 21.png\n",
      "num events 2\n",
      "imgs (2, 3648, 5472)\n",
      "filename /Users/janet/EnginyeriaBiomèdica/MSc LIFE SCIENCES ENGINEERING/SensUs/Code/SensUs_2021_Code/images/20210828/Brightfield còpia 22.png\n",
      "num events 3\n",
      "imgs (3, 3648, 5472)\n",
      "filename /Users/janet/EnginyeriaBiomèdica/MSc LIFE SCIENCES ENGINEERING/SensUs/Code/SensUs_2021_Code/images/20210828/Brightfield còpia 23.png\n",
      "num events 4\n",
      "imgs (4, 3648, 5472)\n",
      "filename /Users/janet/EnginyeriaBiomèdica/MSc LIFE SCIENCES ENGINEERING/SensUs/Code/SensUs_2021_Code/images/20210828/Brightfield còpia 24.png\n",
      "num events 5\n",
      "\n",
      " Computing temporal median filter with kernel size  5 ...\n",
      "Averaged images shape:  (1, 3648, 5472)\n",
      "Correcting background illumination intensity...\n"
     ]
    },
    {
     "name": "stderr",
     "output_type": "stream",
     "text": [
      "/Users/janet/EnginyeriaBiomèdica/MSc LIFE SCIENCES ENGINEERING/SensUs/Code/SensUs_2021_Code/processing/processing_functions.py:153: RuntimeWarning: invalid value encountered in true_divide\n",
      "  img_corrected_norm = np.array((img_corrected-img_corrected.min()) / (img_corrected.max()-img_corrected.min()) * 255, dtype=np.uint8)\n"
     ]
    },
    {
     "name": "stdout",
     "output_type": "stream",
     "text": [
      "Corrected images shape:  (1, 3648, 5472)\n",
      "Inverting images...\n",
      "Inverted images shape:  (1, 3648, 5472)\n",
      "Binarizing images...\n",
      "Thresholded images shape:  (1, 3648, 5472)\n",
      "Percentage of pixels detected in each ROI (0-1) [0.0, 0.0, 0.0, 0.0]\n",
      "Percentage of pixels corresponding to Background (0-1) 0.0\n",
      "Percentage of pixels corresponding to Foreground (0-1) 0.0\n",
      "Percentage of pixels corresponding to Signal 0.0\n",
      "[[], [0.0, 0.0, 0.0]]\n",
      "filename /Users/janet/EnginyeriaBiomèdica/MSc LIFE SCIENCES ENGINEERING/SensUs/Code/SensUs_2021_Code/images/20210828/Brightfield còpia 25.png\n",
      "num events 1\n",
      "imgs (1, 3648, 5472)\n",
      "filename /Users/janet/EnginyeriaBiomèdica/MSc LIFE SCIENCES ENGINEERING/SensUs/Code/SensUs_2021_Code/images/20210828/Darkfield còpia 7.png\n",
      "num events 2\n",
      "imgs (2, 3648, 5472)\n",
      "filename /Users/janet/EnginyeriaBiomèdica/MSc LIFE SCIENCES ENGINEERING/SensUs/Code/SensUs_2021_Code/images/20210828/Brightfield còpia 26.png\n",
      "num events 3\n",
      "imgs (3, 3648, 5472)\n",
      "filename /Users/janet/EnginyeriaBiomèdica/MSc LIFE SCIENCES ENGINEERING/SensUs/Code/SensUs_2021_Code/images/20210828/Brightfield còpia 27.png\n",
      "num events 4\n",
      "imgs (4, 3648, 5472)\n",
      "filename /Users/janet/EnginyeriaBiomèdica/MSc LIFE SCIENCES ENGINEERING/SensUs/Code/SensUs_2021_Code/images/20210828/Darkfield còpia 8.png\n",
      "num events 5\n",
      "\n",
      " Computing temporal median filter with kernel size  5 ...\n",
      "Averaged images shape:  (1, 3648, 5472)\n",
      "Correcting background illumination intensity...\n",
      "Corrected images shape:  (1, 3648, 5472)\n",
      "Inverting images...\n",
      "Inverted images shape:  (1, 3648, 5472)\n",
      "Binarizing images...\n",
      "Thresholded images shape:  (1, 3648, 5472)\n",
      "Percentage of pixels detected in each ROI (0-1) [0.0, 0.0, 0.0, 0.0]\n",
      "Percentage of pixels corresponding to Background (0-1) 0.0\n",
      "Percentage of pixels corresponding to Foreground (0-1) 0.0\n",
      "Percentage of pixels corresponding to Signal 0.0\n",
      "[[], [0.0, 0.0, 0.0], [0.0, 0.0, 0.0]]\n",
      "filename /Users/janet/EnginyeriaBiomèdica/MSc LIFE SCIENCES ENGINEERING/SensUs/Code/SensUs_2021_Code/images/20210828/Darkfield còpia 9.png\n",
      "num events 1\n",
      "imgs (1, 3648, 5472)\n",
      "filename /Users/janet/EnginyeriaBiomèdica/MSc LIFE SCIENCES ENGINEERING/SensUs/Code/SensUs_2021_Code/images/20210828/Darkfield còpia 10.png\n",
      "num events 2\n",
      "imgs (2, 3648, 5472)\n",
      "filename /Users/janet/EnginyeriaBiomèdica/MSc LIFE SCIENCES ENGINEERING/SensUs/Code/SensUs_2021_Code/images/20210828/Darkfield còpia 11.png\n",
      "num events 3\n",
      "imgs (3, 3648, 5472)\n",
      "filename /Users/janet/EnginyeriaBiomèdica/MSc LIFE SCIENCES ENGINEERING/SensUs/Code/SensUs_2021_Code/images/20210828/Brightfield còpia 28.png\n",
      "num events 4\n",
      "imgs (4, 3648, 5472)\n",
      "filename /Users/janet/EnginyeriaBiomèdica/MSc LIFE SCIENCES ENGINEERING/SensUs/Code/SensUs_2021_Code/images/20210828/Brightfield còpia 29.png\n",
      "num events 5\n",
      "\n",
      " Computing temporal median filter with kernel size  5 ...\n",
      "Averaged images shape:  (1, 3648, 5472)\n",
      "Correcting background illumination intensity...\n",
      "Corrected images shape:  (1, 3648, 5472)\n",
      "Inverting images...\n",
      "Inverted images shape:  (1, 3648, 5472)\n",
      "Binarizing images...\n",
      "Thresholded images shape:  (1, 3648, 5472)\n",
      "Percentage of pixels detected in each ROI (0-1) [0.0, 0.0, 0.0, 0.0]\n",
      "Percentage of pixels corresponding to Background (0-1) 0.0\n",
      "Percentage of pixels corresponding to Foreground (0-1) 0.0\n",
      "Percentage of pixels corresponding to Signal 0.0\n",
      "[[], [0.0, 0.0, 0.0], [0.0, 0.0, 0.0], [0.0, 0.0, 0.0]]\n",
      "filename /Users/janet/EnginyeriaBiomèdica/MSc LIFE SCIENCES ENGINEERING/SensUs/Code/SensUs_2021_Code/images/20210828/Brightfield còpia 30.png\n",
      "num events 1\n",
      "imgs (1, 3648, 5472)\n",
      "filename /Users/janet/EnginyeriaBiomèdica/MSc LIFE SCIENCES ENGINEERING/SensUs/Code/SensUs_2021_Code/images/20210828/Brightfield còpia 31.png\n",
      "num events 2\n",
      "imgs (2, 3648, 5472)\n",
      "filename /Users/janet/EnginyeriaBiomèdica/MSc LIFE SCIENCES ENGINEERING/SensUs/Code/SensUs_2021_Code/images/20210828/Brightfield còpia 32.png\n",
      "num events 3\n",
      "imgs (3, 3648, 5472)\n",
      "filename /Users/janet/EnginyeriaBiomèdica/MSc LIFE SCIENCES ENGINEERING/SensUs/Code/SensUs_2021_Code/images/20210828/Darkfield còpia 12.png\n",
      "num events 4\n",
      "imgs (4, 3648, 5472)\n",
      "filename /Users/janet/EnginyeriaBiomèdica/MSc LIFE SCIENCES ENGINEERING/SensUs/Code/SensUs_2021_Code/images/20210828/Brightfield còpia 33.png\n",
      "num events 5\n",
      "\n",
      " Computing temporal median filter with kernel size  5 ...\n",
      "Averaged images shape:  (1, 3648, 5472)\n",
      "Correcting background illumination intensity...\n",
      "Corrected images shape:  (1, 3648, 5472)\n",
      "Inverting images...\n",
      "Inverted images shape:  (1, 3648, 5472)\n",
      "Binarizing images...\n",
      "Thresholded images shape:  (1, 3648, 5472)\n",
      "Percentage of pixels detected in each ROI (0-1) [0.0, 0.0, 0.0, 0.0]\n",
      "Percentage of pixels corresponding to Background (0-1) 0.0\n",
      "Percentage of pixels corresponding to Foreground (0-1) 0.0\n",
      "Percentage of pixels corresponding to Signal 0.0\n",
      "[[], [0.0, 0.0, 0.0], [0.0, 0.0, 0.0], [0.0, 0.0, 0.0], [0.0, 0.0, 0.0]]\n",
      "filename /Users/janet/EnginyeriaBiomèdica/MSc LIFE SCIENCES ENGINEERING/SensUs/Code/SensUs_2021_Code/images/20210828/Darkfield còpia 13.png\n",
      "num events 1\n",
      "imgs (1, 3648, 5472)\n",
      "filename /Users/janet/EnginyeriaBiomèdica/MSc LIFE SCIENCES ENGINEERING/SensUs/Code/SensUs_2021_Code/images/20210828/Darkfield còpia 14.png\n",
      "num events 2\n",
      "imgs (2, 3648, 5472)\n",
      "filename /Users/janet/EnginyeriaBiomèdica/MSc LIFE SCIENCES ENGINEERING/SensUs/Code/SensUs_2021_Code/images/20210828/Darkfield còpia 15.png\n",
      "num events 3\n",
      "imgs (3, 3648, 5472)\n",
      "filename /Users/janet/EnginyeriaBiomèdica/MSc LIFE SCIENCES ENGINEERING/SensUs/Code/SensUs_2021_Code/images/20210828/Darkfield còpia 16.png\n",
      "num events 4\n",
      "imgs (4, 3648, 5472)\n",
      "filename /Users/janet/EnginyeriaBiomèdica/MSc LIFE SCIENCES ENGINEERING/SensUs/Code/SensUs_2021_Code/images/20210828/206 còpia 18.png\n",
      "num events 5\n",
      "\n",
      " Computing temporal median filter with kernel size  5 ...\n",
      "Averaged images shape:  (1, 3648, 5472)\n",
      "Correcting background illumination intensity...\n",
      "Corrected images shape:  (1, 3648, 5472)\n",
      "Inverting images...\n",
      "Inverted images shape:  (1, 3648, 5472)\n",
      "Binarizing images...\n",
      "Thresholded images shape:  (1, 3648, 5472)\n",
      "Percentage of pixels detected in each ROI (0-1) [0.0, 0.0, 0.0, 0.0]\n",
      "Percentage of pixels corresponding to Background (0-1) 0.0\n",
      "Percentage of pixels corresponding to Foreground (0-1) 0.0\n",
      "Percentage of pixels corresponding to Signal 0.0\n",
      "[[], [0.0, 0.0, 0.0], [0.0, 0.0, 0.0], [0.0, 0.0, 0.0], [0.0, 0.0, 0.0], [0.0, 0.0, 0.0]]\n",
      "filename /Users/janet/EnginyeriaBiomèdica/MSc LIFE SCIENCES ENGINEERING/SensUs/Code/SensUs_2021_Code/images/20210828/206 còpia 19.png\n",
      "num events 1\n",
      "imgs (1, 3648, 5472)\n",
      "filename /Users/janet/EnginyeriaBiomèdica/MSc LIFE SCIENCES ENGINEERING/SensUs/Code/SensUs_2021_Code/images/20210828/206 còpia 20.png\n",
      "num events 2\n",
      "imgs (2, 3648, 5472)\n",
      "filename /Users/janet/EnginyeriaBiomèdica/MSc LIFE SCIENCES ENGINEERING/SensUs/Code/SensUs_2021_Code/images/20210828/206 còpia 21.png\n",
      "num events 3\n",
      "imgs (3, 3648, 5472)\n",
      "filename /Users/janet/EnginyeriaBiomèdica/MSc LIFE SCIENCES ENGINEERING/SensUs/Code/SensUs_2021_Code/images/20210828/206 còpia 22.png\n",
      "num events 4\n",
      "imgs (4, 3648, 5472)\n",
      "filename /Users/janet/EnginyeriaBiomèdica/MSc LIFE SCIENCES ENGINEERING/SensUs/Code/SensUs_2021_Code/images/20210828/206 còpia 23.png\n",
      "num events 5\n",
      "\n",
      " Computing temporal median filter with kernel size  5 ...\n",
      "Averaged images shape:  (1, 3648, 5472)\n",
      "Correcting background illumination intensity...\n",
      "Corrected images shape:  (1, 3648, 5472)\n",
      "Inverting images...\n",
      "Inverted images shape:  (1, 3648, 5472)\n",
      "Binarizing images...\n",
      "Thresholded images shape:  (1, 3648, 5472)\n",
      "Percentage of pixels detected in each ROI (0-1) [0.021277066116558916, 0.03515918075212404, 0.20526517229325017, 0.18691734704733903]\n",
      "Percentage of pixels corresponding to Background (0-1) 0.39218251934058923\n",
      "Percentage of pixels corresponding to Foreground (0-1) 0.056436246868682954\n",
      "Percentage of pixels corresponding to Signal -0.33574627247190625\n",
      "[[], [0.0, 0.0, 0.0], [0.0, 0.0, 0.0], [0.0, 0.0, 0.0], [0.0, 0.0, 0.0], [0.0, 0.0, 0.0], [-0.33574627247190625, 0.056436246868682954, 0.39218251934058923]]\n",
      "Last results list [[], [0.0, 0.0, 0.0], [0.0, 0.0, 0.0], [0.0, 0.0, 0.0], [0.0, 0.0, 0.0], [0.0, 0.0, 0.0], [-0.33574627247190625, 0.056436246868682954, 0.39218251934058923]]\n",
      "y [0.0, 0.0, 0.0, 0.0, 0.0, -0.33574627247190625]\n",
      "x [ 0 10 20 30 40 50]\n",
      "reg_lin [-0.00479638  0.06395167]\n",
      "slope [-0.00479638  0.06395167]\n",
      "concentration [  21.3267498  -146.84361778]\n"
     ]
    },
    {
     "ename": "SystemExit",
     "evalue": "",
     "output_type": "error",
     "traceback": [
      "An exception has occurred, use %tb to see the full traceback.\n",
      "\u001b[0;31mSystemExit\u001b[0m\n"
     ]
    },
    {
     "name": "stderr",
     "output_type": "stream",
     "text": [
      "/Applications/anaconda3/lib/python3.7/site-packages/IPython/core/interactiveshell.py:3334: UserWarning: To exit: use 'exit', 'quit', or Ctrl-D.\n",
      "  warn(\"To exit: use 'exit', 'quit', or Ctrl-D.\", stacklevel=1)\n"
     ]
    },
    {
     "data": {
      "text/plain": [
       "<Figure size 432x288 with 0 Axes>"
      ]
     },
     "metadata": {},
     "output_type": "display_data"
    }
   ],
   "source": [
    "# Running in parallel\n",
    "run_parallel.main()"
   ]
  },
  {
   "cell_type": "code",
   "execution_count": null,
   "metadata": {},
   "outputs": [],
   "source": [
    "# Running pump TODO"
   ]
  },
  {
   "cell_type": "code",
   "execution_count": null,
   "metadata": {},
   "outputs": [],
   "source": [
    "# Loading results\n",
    "result_df = pd.read_csv('./images/20210828/result.csv')\n",
    "result_df['Signal'].plot()"
   ]
  },
  {
   "cell_type": "code",
   "execution_count": null,
   "metadata": {},
   "outputs": [],
   "source": [
    "print(keyboard.is_pressed('ctrl'))"
   ]
  },
  {
   "cell_type": "code",
   "execution_count": null,
   "metadata": {},
   "outputs": [],
   "source": [
    "while True:  # making a loop\n",
    "    try:  # used try so that if user pressed other than the given key error will not be shown\n",
    "        if keyboard.is_pressed('q'):  # if key 'q' is pressed \n",
    "            print('You Pressed A Key!')\n",
    "            break  # finishing the loop\n",
    "    except:\n",
    "        break  # if user pressed a key other than the given key the loop will break"
   ]
  },
  {
   "cell_type": "code",
   "execution_count": null,
   "metadata": {},
   "outputs": [],
   "source": [
    "# todo: median filter"
   ]
  }
 ],
 "metadata": {
  "kernelspec": {
   "display_name": "Python 3",
   "language": "python",
   "name": "python3"
  },
  "language_info": {
   "codemirror_mode": {
    "name": "ipython",
    "version": 3
   },
   "file_extension": ".py",
   "mimetype": "text/x-python",
   "name": "python",
   "nbconvert_exporter": "python",
   "pygments_lexer": "ipython3",
   "version": "3.7.4"
  }
 },
 "nbformat": 4,
 "nbformat_minor": 5
}
