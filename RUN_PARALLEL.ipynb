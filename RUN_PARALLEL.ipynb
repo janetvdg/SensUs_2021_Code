{
 "cells": [
  {
   "cell_type": "markdown",
   "metadata": {},
   "source": [
    "# SenSwiss 2021\n",
    "\n",
    "Code to run in parallel with the acquisition of images in SpinView and to control the pump.\n",
    "\n",
    "Instructions: \n",
    "\n",
    "* Check that the **exposure time** of the camera is constant 11113us\n",
    "* Check you have a folder named `/focus` at the main path\n",
    "* Create a **new folder for the measurement** `/images/NEW_FOLDER_FOR_NEW_TEST` (this needs to be done each time, not in advance!!! (code checks last created folder))\n",
    "* Follow the instructions below\n",
    "* For acquisition in SpinView, save the images in the folder you created in step 3 as type .tiff\n",
    "* If the chip moves at some point, take another image and re-run press_ROI\n",
    "* Look that everything is okay in the prints\n",
    "* Press ctrl-j (for like 1-2seconds) when you want to finish computing the preprocessing and analysis and save the results in result.csv, which will be placed in the folder of step 3."
   ]
  },
  {
   "cell_type": "code",
   "execution_count": null,
   "metadata": {},
   "outputs": [],
   "source": [
    "import pandas as pd\n",
    "import matplotlib.pyplot as plt\n",
    "import os\n",
    "import keyboard\n",
    "import sys\n",
    "import serial\n",
    "import time\n",
    "import numpy as np\n",
    "\n",
    "import run_parallel\n",
    "from pump import *\n",
    "from run_parallel import describe_folders, press_ROIs, run_analysis\n",
    "from processing.processing_functions import compute_concentration_linear, compute_concentration_exponential"
   ]
  },
  {
   "cell_type": "markdown",
   "metadata": {},
   "source": [
    "## 0. Pump"
   ]
  },
  {
   "cell_type": "markdown",
   "metadata": {},
   "source": [
    "To connect the pump to the computer (only done at the very beginning of times)."
   ]
  },
  {
   "cell_type": "code",
   "execution_count": null,
   "metadata": {},
   "outputs": [],
   "source": [
    "# Open serial connection -> check COM port on your device\n",
    "lsp = serial.Serial('COM3', 9600, timeout=1000)  # TODO: change the comport depending on your computer\n",
    "print('LSPone connected on ', lsp.name)\n",
    "\n",
    "# Initialise LSPone normally already done\n",
    "initialise_LSPone(lsp)"
   ]
  },
  {
   "cell_type": "code",
   "execution_count": null,
   "metadata": {},
   "outputs": [],
   "source": [
    "# 0. General Cleaning # this were i start\n",
    "# 2: PBS, 3: Air, 4: Ethanol   (order of the tubes in the pump)\n",
    "general_cleaning_procedure(lsp)"
   ]
  },
  {
   "cell_type": "markdown",
   "metadata": {},
   "source": [
    "## Starting the measurements"
   ]
  },
  {
   "cell_type": "markdown",
   "metadata": {},
   "source": [
    "#### 1. Take a photo with SpinView of the spots -> save at `/focus`"
   ]
  },
  {
   "cell_type": "markdown",
   "metadata": {},
   "source": [
    "#### 2. Create a folder named `/images/NEW_FOLDER_FOR_NEW_TEST` and set everything up in SpinView: photo each 2000ms for 240000ms"
   ]
  },
  {
   "cell_type": "markdown",
   "metadata": {},
   "source": [
    "#### 3. Aspire the Blocking Buffer"
   ]
  },
  {
   "cell_type": "code",
   "execution_count": null,
   "metadata": {},
   "outputs": [],
   "source": [
    "# Sucking BB at 50 ul/min\n",
    "pick_BB(lsp)"
   ]
  },
  {
   "cell_type": "markdown",
   "metadata": {},
   "source": [
    "#### 4. Select ROI (in the meantime)\n"
   ]
  },
  {
   "cell_type": "code",
   "execution_count": null,
   "metadata": {},
   "outputs": [],
   "source": [
    "# Select ROI\n",
    "ORIGINAL_FOLDER, IMG_PROCESSED_FOLDER, IMG_FOLDER, DIR_ROI, DIR = describe_folders()\n",
    "ROIs = press_ROIs(DIR_ROI, ORIGINAL_FOLDER)"
   ]
  },
  {
   "cell_type": "markdown",
   "metadata": {},
   "source": [
    "#### 5. Flow the sample"
   ]
  },
  {
   "cell_type": "markdown",
   "metadata": {},
   "source": [
    "#### Do not forget to change n to 4"
   ]
  },
  {
   "cell_type": "code",
   "execution_count": null,
   "metadata": {},
   "outputs": [],
   "source": [
    "# Push and pull sample at 50 ul/min\n",
    "push_pull_sample_n_times(lsp, n = 4)"
   ]
  },
  {
   "cell_type": "markdown",
   "metadata": {},
   "source": [
    "#### 6. Start running preprocess and analysis"
   ]
  },
  {
   "cell_type": "code",
   "execution_count": null,
   "metadata": {
    "scrolled": true
   },
   "outputs": [],
   "source": [
    "# Run processing and analysis\n",
    "run_analysis(ROIs, IMG_FOLDER=IMG_FOLDER, DIR=DIR, window_size=5, framerate=2, threshold=140)"
   ]
  },
  {
   "cell_type": "code",
   "execution_count": null,
   "metadata": {},
   "outputs": [],
   "source": [
    "# TODO: add 15seconds timer"
   ]
  },
  {
   "cell_type": "markdown",
   "metadata": {},
   "source": [
    "#### 7. SpinView start recording -> save at `/images/NEW_FOLDER_FOR_NEW_TEST` as soon as you see liquid"
   ]
  },
  {
   "cell_type": "markdown",
   "metadata": {},
   "source": [
    "#### 8. View results (change name)"
   ]
  },
  {
   "cell_type": "code",
   "execution_count": null,
   "metadata": {
    "scrolled": true
   },
   "outputs": [],
   "source": [
    "# Loading results\n",
    "result_df = pd.read_csv('./images/20210830_10ng_5/result.csv')   # TODO CHANGE NAME\n",
    "result_df['Signal'].plot()"
   ]
  },
  {
   "cell_type": "code",
   "execution_count": null,
   "metadata": {},
   "outputs": [],
   "source": [
    "time_step = 2*5\n",
    "y = result_df['Signal']\n",
    "x = np.arange(0, len(y) * time_step, time_step)\n",
    "\n",
    "plt.plot(x, y)\n",
    "\n",
    "conc_linear = compute_concentration_linear(x, y)\n",
    "conc_exp = compute_concentration_exponential(x, y)"
   ]
  },
  {
   "cell_type": "code",
   "execution_count": null,
   "metadata": {},
   "outputs": [],
   "source": [
    "# Running in parallel (if you want to run all at once)\n",
    "# run_parallel.main()"
   ]
  },
  {
   "cell_type": "markdown",
   "metadata": {},
   "source": [
    "#### 9. Clean pump"
   ]
  },
  {
   "cell_type": "code",
   "execution_count": null,
   "metadata": {},
   "outputs": [],
   "source": [
    "# 0. General Cleaning \n",
    "# 2: PBS, 3: Air, 4: Ethanol   (order of the tubes in the pump)\n",
    "general_cleaning_procedure_fast(lsp)"
   ]
  },
  {
   "cell_type": "code",
   "execution_count": null,
   "metadata": {},
   "outputs": [],
   "source": [
    "empty_syringe(lsp)"
   ]
  },
  {
   "cell_type": "code",
   "execution_count": null,
   "metadata": {},
   "outputs": [],
   "source": [
    "pick_BB_again(lsp)"
   ]
  }
 ],
 "metadata": {
  "kernelspec": {
   "display_name": "Python 3",
   "language": "python",
   "name": "python3"
  },
  "language_info": {
   "codemirror_mode": {
    "name": "ipython",
    "version": 3
   },
   "file_extension": ".py",
   "mimetype": "text/x-python",
   "name": "python",
   "nbconvert_exporter": "python",
   "pygments_lexer": "ipython3",
   "version": "3.7.4"
  }
 },
 "nbformat": 4,
 "nbformat_minor": 5
}
